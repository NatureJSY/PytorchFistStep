{
 "cells": [
  {
   "cell_type": "markdown",
   "metadata": {},
   "source": [
    "# <파이토치 첫걸음>을 처음부터 천천히 따라갈거에요\n",
    "\n",
    "# Ch1. 딥러닝이란\n",
    "MLP 은닉층 1개 이상을 딥러닝이라 불러\n",
    "\n",
    "학습의 종류\n",
    "- 지도 학습\n",
    "- 비지도 학습\n",
    "- 강화학습\n",
    "\n",
    "아이디어는 60-70부터 있었지만 최근 연산능력 향상\n",
    "\n",
    "# ch2. Pytorch\n",
    "\n",
    "2017 공개된 딥러닝 프레임워크 - FB AI research\n",
    "\n",
    "torch : 루아 언어로 되어 있어\n",
    "\n",
    "연산 자동화, GPU 내장 (CUDA, cuDNN)\n",
    "\n",
    "TensorFlow : Define and Run vs 'Define by Run'\n",
    "\n",
    "설치는 아나콘다 -> CUDA -> cuDNN -> Pytorch"
   ]
  },
  {
   "cell_type": "code",
   "execution_count": 3,
   "metadata": {},
   "outputs": [
    {
     "name": "stdout",
     "output_type": "stream",
     "text": [
      "tensor([[0., 0., 0.],\n",
      "        [0., 0., 0.]], device='cuda:0')\n"
     ]
    }
   ],
   "source": [
    "import torch\n",
    "cpu_tensor = torch.zeros(2,3)\n",
    "device = torch.device(\"cuda:0\")\n",
    "gpu_tensor = cpu_tensor.to(device)\n",
    "print(gpu_tensor)"
   ]
  },
  {
   "cell_type": "markdown",
   "metadata": {},
   "source": [
    "# Ch3. Linear Regression\n",
    "## 3.1\n",
    "\n",
    "y = wx + b 의 형태\n",
    "\n",
    "w : weight (가중치), b : bias (편차)\n",
    "\n",
    "## 3.2\n",
    "\n",
    "일반적으로 MSE (Mean Squared Error, 평균제곱오차 = L2 norm)를 사용\n",
    "\\begin{align}\n",
    "MSE = \\frac{1}{n} \\sum_{i=1}^n \\left( \\hat{y} - y \\right)^2\n",
    "\\end{align}\n",
    "\n",
    "오차를 나타내는 것이 loss fuction ( or cost fuction) \n",
    "\n",
    "최적의 $w$ 를 찾기 위해 $ w = \\left( x^T x \\right)^{-1} x^T y $ 를 풀어야 하는데 이는 복잡도 $ O \\left( n^3 \\right) $\n",
    "\n",
    "그래서 보통 Gradient Descent (경사하강법)을 사용\n",
    "\n",
    "\\begin{align}\n",
    "w_{t+1} = w_t - gradient \\times learning rate\n",
    "\\end{align}\n",
    "\n",
    "## 3.3"
   ]
  },
  {
   "cell_type": "code",
   "execution_count": 14,
   "metadata": {},
   "outputs": [
    {
     "name": "stdout",
     "output_type": "stream",
     "text": [
      "tensor([ 8., 17.], grad_fn=<SubBackward0>)\n",
      "tensor([ 8., 12.]) None None\n"
     ]
    }
   ],
   "source": [
    "# z= 2x^2+3이라는 식에서 x에 대한 기울기를 구하는 코드\n",
    "\n",
    "#import torch\n",
    "x1 = torch.tensor(data=[2.0,3.0],requires_grad=True)\n",
    "y1 = x1**2\n",
    "z1= 2*y1+3\n",
    "\n",
    "target = torch.tensor([3.0,4.0]) #여기서 target의 효용을 모르겠어 책에서 설명도 좀 이상해\n",
    "loss = torch.sum(torch.abs(z1-target)) \n",
    "loss.backward()\n",
    "\n",
    "print(x1.grad, y1.grad, z1.grad)"
   ]
  },
  {
   "cell_type": "markdown",
   "metadata": {},
   "source": [
    "__loss.backward()__ computes __dloss/dx__ for every parameter **x** which has __requires_grad=True__"
   ]
  },
  {
   "cell_type": "markdown",
   "metadata": {},
   "source": [
    "- 선형 회귀분석 모델"
   ]
  },
  {
   "cell_type": "code",
   "execution_count": 26,
   "metadata": {},
   "outputs": [],
   "source": [
    "#import torch\n",
    "import torch.nn as nn #뉴럴넷 모델 라이브러리\n",
    "import torch.optim as optim #경사하강법 알고리즘이 들어있대 최적화 방법들 있는듯\n",
    "import torch.nn.init as init #텐서 초기값을 주기 위한 함수들\n",
    "\n",
    "num_data=1000\n",
    "num_epoch = 500\n",
    "\n",
    "x=init.uniform_(torch.Tensor(num_data,1),-10,10) #uniform dist에서 1000개 sample\n",
    "noise =init.normal_(torch.FloatTensor(num_data,1),std=1) #Normal(0,1)에서 1000개 \n",
    "y=2*x+3\n",
    "y_noise = 2*(x+noise)+3\n",
    "\n",
    "model = nn.Linear(1,1) # size of in/out , 세번째에선 bias=True : 상수항 넣을 건지\n",
    "loss_func = nn.L1Loss() #L1 norm loss\n",
    "\n",
    "optimizer = optim.SGD(model.parameters(),lr=0.01) \n",
    "#Stocatic Gradient Descent 옵티마이저를 쓸거임"
   ]
  },
  {
   "cell_type": "code",
   "execution_count": 28,
   "metadata": {},
   "outputs": [
    {
     "name": "stdout",
     "output_type": "stream",
     "text": [
      "epoch :  0 \t loss :  tensor(1.6424)\n",
      "2.00048828125 2.507828950881958\n",
      "epoch :  10 \t loss :  tensor(1.6385)\n",
      "1.9981105327606201 2.527409315109253\n",
      "epoch :  20 \t loss :  tensor(1.6350)\n",
      "1.9971508979797363 2.5460290908813477\n",
      "epoch :  30 \t loss :  tensor(1.6319)\n",
      "1.9983372688293457 2.563549041748047\n",
      "epoch :  40 \t loss :  tensor(1.6290)\n",
      "1.9990203380584717 2.5805282592773438\n",
      "epoch :  50 \t loss :  tensor(1.6263)\n",
      "1.9998046159744263 2.5968282222747803\n",
      "epoch :  60 \t loss :  tensor(1.6239)\n",
      "1.9998785257339478 2.6123077869415283\n",
      "epoch :  70 \t loss :  tensor(1.6216)\n",
      "2.0012855529785156 2.6272873878479004\n",
      "epoch :  80 \t loss :  tensor(1.6194)\n",
      "2.002274513244629 2.641928195953369\n",
      "epoch :  90 \t loss :  tensor(1.6175)\n",
      "2.0029492378234863 2.6556878089904785\n",
      "epoch :  100 \t loss :  tensor(1.6157)\n",
      "2.001983642578125 2.6690869331359863\n",
      "epoch :  110 \t loss :  tensor(1.6139)\n",
      "2.0010180473327637 2.682486057281494\n",
      "epoch :  120 \t loss :  tensor(1.6121)\n",
      "2.0006368160247803 2.6958250999450684\n",
      "epoch :  130 \t loss :  tensor(1.6103)\n",
      "2.0016191005706787 2.709023952484131\n",
      "epoch :  140 \t loss :  tensor(1.6086)\n",
      "2.001271963119507 2.7219643592834473\n",
      "epoch :  150 \t loss :  tensor(1.6071)\n",
      "2.00019907951355 2.734184503555298\n",
      "epoch :  160 \t loss :  tensor(1.6058)\n",
      "1.9992620944976807 2.7455856800079346\n",
      "epoch :  170 \t loss :  tensor(1.6045)\n",
      "1.9996672868728638 2.756746530532837\n",
      "epoch :  180 \t loss :  tensor(1.6034)\n",
      "2.000523090362549 2.7675468921661377\n",
      "epoch :  190 \t loss :  tensor(1.6023)\n",
      "2.0010757446289062 2.7779667377471924\n",
      "epoch :  200 \t loss :  tensor(1.6013)\n",
      "2.0015265941619873 2.7878258228302\n",
      "epoch :  210 \t loss :  tensor(1.6004)\n",
      "2.0016303062438965 2.797346591949463\n",
      "epoch :  220 \t loss :  tensor(1.5995)\n",
      "2.0021023750305176 2.806346893310547\n",
      "epoch :  230 \t loss :  tensor(1.5988)\n",
      "2.002575635910034 2.815207004547119\n",
      "epoch :  240 \t loss :  tensor(1.5980)\n",
      "2.003669261932373 2.823786735534668\n",
      "epoch :  250 \t loss :  tensor(1.5973)\n",
      "2.004162311553955 2.832106113433838\n",
      "epoch :  260 \t loss :  tensor(1.5966)\n",
      "2.0054988861083984 2.8401451110839844\n",
      "epoch :  270 \t loss :  tensor(1.5960)\n",
      "2.0064287185668945 2.8479461669921875\n",
      "epoch :  280 \t loss :  tensor(1.5954)\n",
      "2.006983757019043 2.8555068969726562\n",
      "epoch :  290 \t loss :  tensor(1.5949)\n",
      "2.0071849822998047 2.862767219543457\n",
      "epoch :  300 \t loss :  tensor(1.5944)\n",
      "2.007389545440674 2.8699474334716797\n",
      "epoch :  310 \t loss :  tensor(1.5939)\n",
      "2.0079784393310547 2.876927375793457\n",
      "epoch :  320 \t loss :  tensor(1.5935)\n",
      "2.0083677768707275 2.8834667205810547\n",
      "epoch :  330 \t loss :  tensor(1.5931)\n",
      "2.008554220199585 2.88956618309021\n",
      "epoch :  340 \t loss :  tensor(1.5927)\n",
      "2.0079116821289062 2.8954670429229736\n",
      "epoch :  350 \t loss :  tensor(1.5924)\n",
      "2.007431983947754 2.9013478755950928\n",
      "epoch :  360 \t loss :  tensor(1.5921)\n",
      "2.0078134536743164 2.906748056411743\n",
      "epoch :  370 \t loss :  tensor(1.5918)\n",
      "2.00858473777771 2.912048101425171\n",
      "epoch :  380 \t loss :  tensor(1.5915)\n",
      "2.0090935230255127 2.9173481464385986\n",
      "epoch :  390 \t loss :  tensor(1.5913)\n",
      "2.0097081661224365 2.922287702560425\n",
      "epoch :  400 \t loss :  tensor(1.5911)\n",
      "2.009711503982544 2.9265477657318115\n",
      "epoch :  410 \t loss :  tensor(1.5909)\n",
      "2.0097920894622803 2.930528402328491\n",
      "epoch :  420 \t loss :  tensor(1.5908)\n",
      "2.009782552719116 2.93432879447937\n",
      "epoch :  430 \t loss :  tensor(1.5906)\n",
      "2.010033369064331 2.9379489421844482\n",
      "epoch :  440 \t loss :  tensor(1.5905)\n",
      "2.010321855545044 2.9413487911224365\n",
      "epoch :  450 \t loss :  tensor(1.5904)\n",
      "2.010610342025757 2.944748640060425\n",
      "epoch :  460 \t loss :  tensor(1.5903)\n",
      "2.0104894638061523 2.947848320007324\n",
      "epoch :  470 \t loss :  tensor(1.5902)\n",
      "2.0107126235961914 2.950568199157715\n",
      "epoch :  480 \t loss :  tensor(1.5901)\n",
      "2.011106014251709 2.95326828956604\n",
      "epoch :  490 \t loss :  tensor(1.5901)\n",
      "2.011329174041748 2.9559881687164307\n"
     ]
    }
   ],
   "source": [
    "label = y_noise\n",
    "for i in range(num_epoch): # epoch [에폭] : 데이터 전체를 한번 사용하는 주기\n",
    "    optimizer.zero_grad() # 지난번에 계산한 기울기(라는 표현이 모델에서 쓰이는듯)를 0으로\n",
    "    output = model(x)\n",
    "    \n",
    "    loss = loss_func(output,label)\n",
    "    loss.backward()\n",
    "    optimizer.step()\n",
    "    \n",
    "    if i%10 == 0 : \n",
    "        print(\"epoch : \", i, \"\\t loss : \",loss.data)\n",
    "        param_list = list(model.parameters())\n",
    "        print(param_list[0].item(),param_list[1].item())"
   ]
  },
  {
   "cell_type": "markdown",
   "metadata": {},
   "source": [
    "# Ch4. 인공 신경망\n",
    "## 4.2 인공신경망\n",
    "\n",
    "각 은닉층에서 \n",
    "\\begin{align}\n",
    "y = w_2 \\left( \\sigma \\left( w_1 \\times x + b_1 \\right) \\right) + b_2\n",
    "\\end{align}\n",
    "같이 구성되고 단순히 Linear combination이 아니기 위해서는 활성화 함수 $ \\sigma $ 가 필요하다. 그 예로는 logistic(sigmoid), Hyperbolic tangent(tanh), ReLU (Rectified Linear Unit) 등이 있다.\n",
    "\n",
    "## 4.3 전파와 역전파 (forward/backward propagation)\n",
    "각 은닉층 __$ i $__ 마다 가중치 매트릭스 __$ W_i $__ 가 곱해지는 과정이 전파(순전파\n",
    "\n",
    "chain rule을 통해 __$ \\frac{ \\partial z }{\\partial x} = \\frac{ \\partial z }{\\partial y} \\frac{ \\partial y }{\\partial x} $__ 써서 역으로 계산하는 과정이 역전파\n",
    "\n",
    "## 4.4 모델 구현, 학습 및 결과 확인\n",
    "\n",
    "전파-역전파의 과정을 pytorch에서는 __loss.backward()__ 하나로 해결!\n"
   ]
  },
  {
   "cell_type": "code",
   "execution_count": 2,
   "metadata": {},
   "outputs": [],
   "source": [
    "import torch\n",
    "import torch.nn as nn\n",
    "import torch.optim as optim\n",
    "import torch.nn.init as init\n",
    "\n",
    "num_data = 1000\n",
    "num_epoch = 10000\n",
    "#print(\"torch initiral seed : \", torch.initial_seed())\n",
    "#print(\"torch CUDA initiral seed : \", torch.cuda.initiral_seed())\n",
    "torch.manual_seed(1)\n",
    "\n",
    "\n",
    "noise = init.normal_(torch.FloatTensor(num_data,1),std=1)\n",
    "x = init.uniform_(torch.Tensor(num_data,1),-15,15)\n",
    "y = (x**2) +3\n",
    "y_noise = y + noise\n",
    "\n",
    "model = nn.Sequential(\n",
    "        nn.Linear(1,6),\n",
    "        nn.ReLU(),\n",
    "        nn.Linear(6,10),\n",
    "        nn.ReLU(),\n",
    "        nn.Linear(10,6),\n",
    "        nn.ReLU(),\n",
    "        nn.Linear(6,1)\n",
    "    ) #Sequential을 통해 인공 신경망 순서대로 구성\n",
    "\n",
    "loss_func = nn.L1Loss()\n",
    "optimizer = optim.SGD(model.parameters(),lr=0.0002)\n",
    "\n",
    "loss_array = []\n",
    "for i in range(num_epoch):\n",
    "    optimizer.zero_grad()\n",
    "    output = model(x)\n",
    "    loss = loss_func(output,y_noise)\n",
    "    loss.backward()\n",
    "    optimizer.step()\n",
    "    \n",
    "    loss_array.append(loss)"
   ]
  },
  {
   "cell_type": "code",
   "execution_count": 12,
   "metadata": {},
   "outputs": [
    {
     "data": {
      "text/plain": [
       "[<matplotlib.lines.Line2D at 0x168abf78780>]"
      ]
     },
     "execution_count": 12,
     "metadata": {},
     "output_type": "execute_result"
    },
    {
     "data": {
      "image/png": "[encoded data removed]",
      "text/plain": [
       "<Figure size 432x288 with 2 Axes>"
      ]
     },
     "metadata": {
      "needs_background": "light"
     },
     "output_type": "display_data"
    }
   ],
   "source": [
    "import matplotlib.pyplot as plt\n",
    "plt.subplot(211)\n",
    "plt.plot(loss_array)\n",
    "\n",
    "plt.subplot(212)\n",
    "plt.plot(x,y_noise,'ro')\n",
    "plt.plot(x,model(x).detach().numpy(),'bo') # ReLU() 덕에 non-linear한 shape이 나타나게 됨"
   ]
  },
  {
   "cell_type": "markdown",
   "metadata": {},
   "source": []
  },
  {
   "cell_type": "markdown",
   "metadata": {},
   "source": []
  },
  {
   "cell_type": "markdown",
   "metadata": {},
   "source": []
  }
 ],
 "metadata": {
  "kernelspec": {
   "display_name": "Python 3",
   "language": "python",
   "name": "python3"
  },
  "language_info": {
   "codemirror_mode": {
    "name": "ipython",
    "version": 3
   },
   "file_extension": ".py",
   "mimetype": "text/x-python",
   "name": "python",
   "nbconvert_exporter": "python",
   "pygments_lexer": "ipython3",
   "version": "3.7.1"
  }
 },
 "nbformat": 4,
 "nbformat_minor": 2
}
