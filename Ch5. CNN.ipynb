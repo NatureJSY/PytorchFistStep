{
 "cells": [
  {
   "cell_type": "markdown",
   "metadata": {},
   "source": [
    "# Ch5. 합성곱 신경망(Convolution Neural Network) \n",
    "\n",
    "## 5.2 합성곱의 연산 과정\n",
    "\n",
    "filter ( kernel이라 부릅니다)를 움직여가며 곱->합->평균으로 다음 셀에 넘김\n",
    "\n",
    "필터의 이동 단위 : Stride\n",
    "\n",
    "필터당 입력 이미지 전체에 대한 일치 정도를 활성화지도( activation map, feature map )\n",
    "\n",
    "feature map의 크기 $ O = floor \\left( \\frac{I - K}{S} + 1 \\right) $ with 이미지 크기 $ I $, 필터 크기 $K$, 스트라이드 $ S $\n",
    "\n",
    "활성화 함수 ReLU, ricky ReLU, randomized ricky ReLU 에 대한 설명이 있었어요\n",
    "\n",
    "## 5.3 패딩과 풀링 (Padding and pooling)\n",
    "\n",
    "패딩 : feture map의 크기와 원 이미지의 크기를 일치시키기 위해 바깥쪽에 넣는 임의 값, 이미지가 충분히 크다면 굳이 필요 x\n",
    "\n",
    " $ O = floor \\left( \\frac{I - K + 2P }{S} + 1 \\right) $ with 이미지 크기 $ I $, 필터 크기 $K$, 패딩 크기 $P$, 스트라이드 $ S $\n",
    " \n",
    "풀링(Pooling = downsampling = subsampling) : 큰 이미지를 작게\n",
    "\n",
    "Max Pooling or Avg Pooling\n",
    "\n",
    "## 5.4 모델의 3차원적 이해\n",
    "\n",
    "$ l \\times m $ 의 이미지에 n개 필터를 적용하면 다음 레이어에서는 $ l \\times m \\times n $ 짜리 박스가 만들어진다는 관점\n",
    "\n",
    "가로 세로는 풀링을 통해 줄어들고 필터 갯수에 따라 채널 수가 늘어나며\n",
    "\n",
    "충분히 특성을 뽑아냈다고 판단되면 완전연결 레이어를 적용해서 가로 x 세로 x 채널의 하나의 벡터가 생성\n"
   ]
  },
  {
   "cell_type": "markdown",
   "metadata": {},
   "source": [
    "## 5.5 softMax 함수\n",
    "\n",
    "분류하려는 클래스 갯수에 따라 binary vector로 만드는 방법 : one-hot encoding\n",
    "\n",
    "각 클래스에 대한 확률 값을 나타내는 함수 = softmax func\n",
    "\n",
    "\\begin{align}\n",
    "softmax \\left(y_i \\right) = \\frac{ exp( y_i ) }{ \\sum_j{exp(y_j)}}\n",
    "\\end{align}\n",
    "\n",
    "softmax 사용시 손실 측정 법 : cross entropy (교차 엔트로피)\n",
    "\\begin{align}\n",
    "엔트로피 H \\left( p \\right) = - \\sum_{x} {p \\left( x \\right) \\log p \\left( x \\right) }\n",
    "\\end{align}\n",
    "\\begin{align}\n",
    "교차 엔트로피 H \\left( p, q \\right) = - \\sum_{x} {p \\left( x \\right) \\log q \\left( x \\right) }\n",
    "\\end{align}\n",
    "\n",
    "교차 엔트로피가 크다라는 것은 최적의 상태보다 더 많은 비트가 필요하다는 뜻 \n",
    "\\begin{align}\n",
    "교차 엔트로피 H \\left( p, q \\right) = H \\left( p \\right) + \\sum_{x} {p \\left( x \\right) \\log \\frac{p \\left( x \\right)} {q \\left( x \\right)} }\n",
    "\\end{align}\n",
    "\\begin{align}\n",
    "\\qquad \\qquad \\qquad = H \\left( p \\right) + D_{KL} \\left( p \\parallel q \\right)\n",
    "\\end{align}\n",
    "\n",
    "KLD(Kullback-Leibler divergence, 쿨러-라이블러 발산) 항 : 분포 p를 기준으로 q가 얼마나 다른지 측정하는 방법\n",
    "\n",
    "KLD을 최소화하는 방향으로 학습. L1norm보다 더 손실에 민감함.\n",
    "\n"
   ]
  },
  {
   "cell_type": "markdown",
   "metadata": {},
   "source": [
    "## 5.6 모델 구현, 학습 및 결과 확인 : MNIST example"
   ]
  },
  {
   "cell_type": "code",
   "execution_count": 2,
   "metadata": {},
   "outputs": [],
   "source": [
    "import torch\n",
    "import torch.nn as nn\n",
    "import torch.optim as optim\n",
    "import torch.nn.init as init\n",
    "\n",
    "#torchvision : 영상처리용 데이터셋, 모델, 이미지 변환기 등\n",
    "import torchvision.datasets as dset\n",
    "import torchvision.transforms as transforms\n",
    "\n",
    "from torch.utils.data import DataLoader \n",
    "#데이터를 하나씩 보내지 않고 batch size별로 전달하기 위해서 필요\n",
    "\n",
    "batch_size = 256\n",
    "learning_rate = 0.0002\n",
    "num_epoch = 10"
   ]
  },
  {
   "cell_type": "code",
   "execution_count": 4,
   "metadata": {},
   "outputs": [
    {
     "name": "stdout",
     "output_type": "stream",
     "text": [
      "Downloading http://yann.lecun.com/exdb/mnist/train-images-idx3-ubyte.gz to ./MNIST\\raw\\train-images-idx3-ubyte.gz\n"
     ]
    },
    {
     "name": "stderr",
     "output_type": "stream",
     "text": [
      "100%|███████████████████████████████████████████████████████████████████▊| 9887744/9912422 [00:47<00:00, 392990.67it/s]"
     ]
    },
    {
     "name": "stdout",
     "output_type": "stream",
     "text": [
      "Extracting ./MNIST\\raw\\train-images-idx3-ubyte.gz to ./MNIST\\raw\n",
      "Downloading http://yann.lecun.com/exdb/mnist/train-labels-idx1-ubyte.gz to ./MNIST\\raw\\train-labels-idx1-ubyte.gz\n"
     ]
    },
    {
     "name": "stderr",
     "output_type": "stream",
     "text": [
      "\n",
      "0it [00:00, ?it/s]\n",
      "  0%|                                                                                        | 0/28881 [00:00<?, ?it/s]\n",
      " 57%|█████████████████████████████████████████▍                               | 16384/28881 [00:00<00:00, 66240.81it/s]\n",
      "32768it [00:00, 46736.13it/s]                                                                                          "
     ]
    },
    {
     "name": "stdout",
     "output_type": "stream",
     "text": [
      "Extracting ./MNIST\\raw\\train-labels-idx1-ubyte.gz to ./MNIST\\raw\n",
      "Downloading http://yann.lecun.com/exdb/mnist/t10k-images-idx3-ubyte.gz to ./MNIST\\raw\\t10k-images-idx3-ubyte.gz\n"
     ]
    },
    {
     "name": "stderr",
     "output_type": "stream",
     "text": [
      "\n",
      "0it [00:00, ?it/s]\n",
      "  0%|                                                                                      | 0/1648877 [00:01<?, ?it/s]\n",
      "  1%|▋                                                                      | 16384/1648877 [00:01<01:02, 26117.25it/s]\n",
      "  2%|█▊                                                                     | 40960/1648877 [00:02<00:53, 30291.80it/s]\n",
      "  3%|██                                                                     | 49152/1648877 [00:02<01:05, 24322.30it/s]\n",
      "  6%|████▏                                                                  | 98304/1648877 [00:03<00:46, 33034.87it/s]\n",
      "  9%|██████▌                                                               | 155648/1648877 [00:03<00:34, 43477.80it/s]\n",
      " 13%|█████████▍                                                            | 221184/1648877 [00:05<00:33, 42012.77it/s]\n",
      " 17%|████████████▏                                                         | 286720/1648877 [00:05<00:24, 56621.28it/s]\n",
      " 21%|██████████████▉                                                       | 352256/1648877 [00:05<00:17, 74656.66it/s]\n",
      " 25%|█████████████████▍                                                    | 409600/1648877 [00:05<00:13, 95208.76it/s]\n",
      " 30%|████████████████████▌                                                | 491520/1648877 [00:06<00:09, 120540.44it/s]\n",
      " 35%|████████████████████████▎                                            | 581632/1648877 [00:06<00:06, 153199.12it/s]\n",
      " 42%|████████████████████████████▊                                        | 688128/1648877 [00:06<00:05, 188123.31it/s]\n",
      " 48%|█████████████████████████████████▎                                   | 794624/1648877 [00:06<00:03, 229573.14it/s]\n",
      " 55%|██████████████████████████████████████                               | 909312/1648877 [00:07<00:02, 275809.53it/s]\n",
      " 62%|██████████████████████████████████████████▏                         | 1024000/1648877 [00:07<00:02, 284752.07it/s]\n",
      " 73%|█████████████████████████████████████████████████▎                  | 1196032/1648877 [00:07<00:01, 372595.74it/s]\n",
      "9920512it [01:00, 392990.67it/s]                                                                                       \n",
      " 82%|████████████████████████████████████████████████████████▌            | 1351680/1648877 [00:10<00:03, 78793.92it/s]\n",
      " 88%|████████████████████████████████████████████████████████████▏       | 1458176/1648877 [00:11<00:01, 101888.95it/s]\n",
      " 97%|██████████████████████████████████████████████████████████████████▏ | 1605632/1648877 [00:11<00:00, 136452.99it/s]"
     ]
    },
    {
     "name": "stdout",
     "output_type": "stream",
     "text": [
      "Extracting ./MNIST\\raw\\t10k-images-idx3-ubyte.gz to ./MNIST\\raw\n",
      "Downloading http://yann.lecun.com/exdb/mnist/t10k-labels-idx1-ubyte.gz to ./MNIST\\raw\\t10k-labels-idx1-ubyte.gz\n"
     ]
    },
    {
     "name": "stderr",
     "output_type": "stream",
     "text": [
      "\n",
      "\n",
      "0it [00:00, ?it/s]\n",
      "\n",
      "  0%|                                                                                         | 0/4542 [00:00<?, ?it/s]\n",
      "\n",
      "8192it [00:00, 18375.57it/s]                                                                                           "
     ]
    },
    {
     "name": "stdout",
     "output_type": "stream",
     "text": [
      "Extracting ./MNIST\\raw\\t10k-labels-idx1-ubyte.gz to ./MNIST\\raw\n",
      "Processing...\n",
      "Done!\n"
     ]
    },
    {
     "name": "stderr",
     "output_type": "stream",
     "text": [
      "\n",
      "1654784it [00:30, 136452.99it/s]                                                                                       "
     ]
    }
   ],
   "source": [
    "#MNIST : 28 * 28 숫자 이미지\n",
    "\n",
    "mnist_train = dset.MNIST(\"./\",train=True, transform=transforms.ToTensor(), target_transform = None, download=True)\n",
    "mnist_test = dset.MNIST(\"./\",train=False, transform=transforms.ToTensor(), target_transform = None, download=True)\n",
    "\n",
    "#transform : 이미지에 대한 변형, target_tansform : 라벨에 대한 변형(그대로 쓸거임)\n",
    "#다운로드는 현재 경로에 없을 경우 다운로드한다는 뜻\n",
    "\n",
    "train_loader = torch.utils.data.DataLoader(mnist_train, batch_size=batch_size, shuffle=True, num_workers=2,drop_last=True)\n",
    "test_loader = torch.utils.data.DataLoader(mnist_test, batch_size=batch_size, shuffle=False, num_workers=2,drop_last=True)\n",
    "\n",
    "#뱃치만큼 로드할거고 num_workers는 프로세스 개수 drop_last : 묶고 남는 데이터 버릴지\n"
   ]
  },
  {
   "cell_type": "code",
   "execution_count": 12,
   "metadata": {
    "scrolled": true
   },
   "outputs": [
    {
     "name": "stdout",
     "output_type": "stream",
     "text": [
      "Dataset MNIST\n",
      "    Number of datapoints: 60000\n",
      "    Root location: ./\n",
      "    Split: Train\n",
      "    StandardTransform\n",
      "Transform: ToTensor() \n",
      "\n",
      "\n",
      "Dataset MNIST\n",
      "    Number of datapoints: 10000\n",
      "    Root location: ./\n",
      "    Split: Test\n",
      "    StandardTransform\n",
      "Transform: ToTensor()\n"
     ]
    }
   ],
   "source": [
    "print(mnist_train,\"\\n\")\n",
    "print(mnist_test)"
   ]
  },
  {
   "cell_type": "code",
   "execution_count": 20,
   "metadata": {},
   "outputs": [],
   "source": [
    "class CNN(nn.Module):\n",
    "    def __init__(self):\n",
    "        super(CNN,self).__init__()\n",
    "        \n",
    "        \n",
    "        self.layer = nn.Sequential(\n",
    "            nn.Conv2d(1,16,5), # in, out, kernel : mnist가 batch, 1, 28, 28이라 in은 1 out은 16, kernel은 임의로 5\n",
    "            nn.ReLU(),\n",
    "            nn.Conv2d(16,32,5),\n",
    "            nn.ReLU(),\n",
    "            nn.MaxPool2d(2,2), #kernel, stride\n",
    "            nn.Conv2d(32,64,5),\n",
    "            nn.ReLU(),\n",
    "            nn.MaxPool2d(2,2)\n",
    "        )\n",
    "        self.fc_layer=nn.Sequential(\n",
    "            nn.Linear(64*3*3,100),\n",
    "            nn.ReLU(),\n",
    "            nn.Linear(100,10)\n",
    "        )\n",
    "        \n",
    "    def forward(self,x):\n",
    "        out = self.layer(x) # construct한 모델에 데이터를 넣은 결과\n",
    "        out = out.view(batch_size,-1) # -1은 -1인 부분은 알아서 계산하라는 뜻\n",
    "        out = self.fc_layer(out) # DNN으로 10개 class중 하나로\n",
    "        return out"
   ]
  },
  {
   "cell_type": "markdown",
   "metadata": {},
   "source": [
    "입력 텐서 : [batch_size, in_channels, 가로, 세로]\n",
    "\n",
    "합성곱 연산 이후 : [batch_size, out_channels, 가로, 세로]\n",
    "\n",
    "첫번째 Conv2d에서는 입력이 [batch, 1, 28, 28]이었고 $ O = floor \\left( \\frac{I-K+2P}{S} +1 \\right) = floor \\left( \\frac{28-5+2 \\times 0}{1} +1 \\right) = 24 $. 따라서 출력은 [batch, 16, 24,24]. 비슷하게 이후엔 [batch, 32, 20, 20]\n",
    "\n",
    "MaxPool을 통과한 이후엔 [batch, 32, 10, 10] 다시 Conv2d 통과하면 [batch, 64, 6, 6] MaxPool 통과하면 [batch, 64, 3, 3]\n",
    "\n",
    "views는 텐서를 펼쳐서 보겠다는 함수\n",
    "\n",
    "이후에 DNN으로 확률보기"
   ]
  },
  {
   "cell_type": "code",
   "execution_count": 21,
   "metadata": {},
   "outputs": [],
   "source": [
    "device = torch.device(\"cuda:0\" if torch.cuda.is_available() else \"cpu\")\n",
    "model = CNN().to(device)\n",
    "loss_func = nn.CrossEntropyLoss()\n",
    "optimizer = torch.optim.Adam(model.parameters(), lr=learning_rate) #adam 알고리즘으로 옵티마이즈"
   ]
  },
  {
   "cell_type": "code",
   "execution_count": 22,
   "metadata": {},
   "outputs": [
    {
     "name": "stdout",
     "output_type": "stream",
     "text": [
      "tensor(2.3085, device='cuda:0', grad_fn=<NllLossBackward>)\n",
      "tensor(0.2516, device='cuda:0', grad_fn=<NllLossBackward>)\n",
      "tensor(0.1988, device='cuda:0', grad_fn=<NllLossBackward>)\n",
      "tensor(0.0705, device='cuda:0', grad_fn=<NllLossBackward>)\n",
      "tensor(0.0451, device='cuda:0', grad_fn=<NllLossBackward>)\n",
      "tensor(0.0746, device='cuda:0', grad_fn=<NllLossBackward>)\n",
      "tensor(0.0397, device='cuda:0', grad_fn=<NllLossBackward>)\n",
      "tensor(0.0511, device='cuda:0', grad_fn=<NllLossBackward>)\n",
      "tensor(0.0186, device='cuda:0', grad_fn=<NllLossBackward>)\n",
      "tensor(0.0251, device='cuda:0', grad_fn=<NllLossBackward>)\n"
     ]
    }
   ],
   "source": [
    "loss_arr=[]\n",
    "for i in range(num_epoch):\n",
    "    for j,[image,label] in enumerate(train_loader):\n",
    "        x = image.to(device)\n",
    "        y_= label.to(device)\n",
    "        \n",
    "        optimizer.zero_grad()\n",
    "        output=model.forward(x)\n",
    "        loss = loss_func(output,y_)\n",
    "        loss.backward()\n",
    "        optimizer.step()\n",
    "        loss_arr.append(loss.cpu().detach().numpy())\n",
    "        \n",
    "        if j%1000 == 0:\n",
    "            print(loss)"
   ]
  },
  {
   "cell_type": "code",
   "execution_count": 23,
   "metadata": {},
   "outputs": [
    {
     "data": {
      "image/png": "[encoded data removed]",
      "text/plain": [
       "<Figure size 432x288 with 1 Axes>"
      ]
     },
     "metadata": {
      "needs_background": "light"
     },
     "output_type": "display_data"
    }
   ],
   "source": [
    "import matplotlib.pyplot as plt\n",
    "plt.plot(loss_arr)\n",
    "plt.show()"
   ]
  },
  {
   "cell_type": "code",
   "execution_count": 24,
   "metadata": {},
   "outputs": [
    {
     "name": "stdout",
     "output_type": "stream",
     "text": [
      "Accuracy of Test Data : 98.828125\n"
     ]
    }
   ],
   "source": [
    "correct = 0\n",
    "total = 0\n",
    "\n",
    "with torch.no_grad(): #기울기를 계산하지 않는 조건에서\n",
    "    for image,label in test_loader :\n",
    "        x = image.to(device)\n",
    "        y_= label.to(device)\n",
    "        \n",
    "        output = model.forward(x)\n",
    "        _,output_index = torch.max(output,1) #최댓값과 그 인수 (언팩킹시 특정값 무시하고 싶으면 언더바 쓴대)\n",
    "        \n",
    "        total += label.size(0)\n",
    "        correct += (output_index ==y_).sum().float()\n",
    "        \n",
    "    print(\"Accuracy of Test Data : {}\".format(100*correct/total))"
   ]
  },
  {
   "cell_type": "markdown",
   "metadata": {},
   "source": [
    "## 5.7 유명한 모델들과 원리\n",
    "\n",
    "### VGGNet\n",
    "\n",
    "신경망의 깊이의 영향만을 파악하기 위해 Conv2D(3,3), Max Pooling, DNN 만을 사용해서 모델을 구성, 2014년 2위\n",
    "\n",
    "11~19개 레이어로 실험을 진행.\n",
    "\n",
    "https://arxiv.org/pdf/1409.1556.pdf\n",
    "\n",
    "일반적으로 더 깊을 수록 정확도 올라감\n",
    "\n",
    "자체구현시 미리 모델 일부를 함수로 짜놓으면 반복되는 부분을 줄일 수 있음\n",
    "\n",
    "torchvision 공식 코드에서는 class에 \\_\\_init\\_\\_ , forward, initialize\\_weights, make\\_layers 함수를 구현해두고 각 레이어의 필터 수 또는 맥스풀링 여부만 가져와서 layer 구성하는 방식으로 구성"
   ]
  },
  {
   "cell_type": "markdown",
   "metadata": {},
   "source": [
    "### GoogleNet\n",
    "\n",
    "2014년 1위, 인셉션 모듈이라는 블록을 쓰기 때문에 인셉션 네트워크라고도 불림\n",
    "\n",
    "인셉션 모듈 : 이전 단계의 활성화 지도에서 다양한 필터($1\\times1 , 3\\times3 , 5\\times5 $)로 Conv \n",
    "\n",
    "https://arxiv.org/pdf/1409.4842v1.pdf\n",
    "\n",
    "$ 1\\times1 $ Conv를 통해 차원감소를 더함 : 입력 채널과 결과 채널 간의 DNN이라고 할 수 있음\n",
    "\n",
    "Conv 곱이 가로세로 어느 위치든 동일하게 적용되기 때문에 연산량을 줄여줌 \n",
    "\n",
    "기존에 128 -> 256 에서 128 -> 32 -> 256으로 \n",
    "\n",
    "또한 Training에서 보조 분류기 (모델 중간에 softmax output을 줘서)를 둬서 네트워크 중간의 정보 손실을 메꾸는 역할"
   ]
  },
  {
   "cell_type": "markdown",
   "metadata": {},
   "source": [
    "### ResNet\n",
    "\n",
    "2015년 1위. 네트워크가 일정 수준 이상의 깊이가 되면 오히려 얕은 모델보다 성능이 떨어짐을 발견\n",
    "\n",
    "이 문제를 해결하기 위해 residual learning(잔차 학습)을 도입. \n",
    "\n",
    "특정 위치에서 입력이 들어왔을때 합성곱 연산을 통과한 결과와 입력으로 들어온 결과 두가지를 더해서 다음 레이어에 전달하는 것.\n",
    "\n",
    "https://arxiv.org/pdf/1512.03385.pdf\n",
    "\n",
    "입력의 단순한 특성과 합성곱 이후의 복잡한 특성 모두를 전달한다는 특성 : $ x_{n+1} = F(x_n) + x_n $ : 기울기도 1\n",
    "\n",
    "$ 1\\times1 $ Conv -> $ 3\\times3 $ -> $ 1\\times1 $ -> $+$ 이런 부분을 bottleneck block이라고 불렀음\n",
    "\n"
   ]
  },
  {
   "cell_type": "markdown",
   "metadata": {},
   "source": [
    "### 그 외\n",
    "\n",
    "GoogleNet + ResNet + batch Regularization = Inception v4\n",
    "\n",
    "ResNet의 잔차 학습을 channel 방향으로 붙이고 연결을 좀더 dense하게한 DenseNet 등\n",
    "\n"
   ]
  }
 ],
 "metadata": {
  "kernelspec": {
   "display_name": "Python 3",
   "language": "python",
   "name": "python3"
  },
  "language_info": {
   "codemirror_mode": {
    "name": "ipython",
    "version": 3
   },
   "file_extension": ".py",
   "mimetype": "text/x-python",
   "name": "python",
   "nbconvert_exporter": "python",
   "pygments_lexer": "ipython3",
   "version": "3.7.1"
  }
 },
 "nbformat": 4,
 "nbformat_minor": 2
}
